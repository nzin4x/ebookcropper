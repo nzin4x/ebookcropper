{
 "cells": [
  {
   "cell_type": "code",
   "execution_count": 28,
   "metadata": {},
   "outputs": [],
   "source": [
    "# install imagemagick with c+ library\r\n",
    "# set env with MAGICK_HOME \r\n",
    "# set image left and size in photo editor\r\n",
    "\r\n",
    "\r\n",
    "\r\n",
    "from wand.image import Image\r\n",
    "import os\r\n",
    "\r\n",
    "width = 766\r\n",
    "height = 1088\r\n",
    "top = 11\r\n",
    "left_odd = 26\r\n",
    "left_even = 111\r\n",
    "start = 1\r\n",
    "end = 392 + 1\r\n",
    "\r\n",
    "\r\n",
    "# thread 로 개선 할 것\r\n",
    "\r\n",
    "# for i in range(start, end):\r\n",
    "for i in range(40, 80): # sampling\r\n",
    "    fn = 'pp '+ str(i).zfill(3) +'.png' \r\n",
    "    org = Image(filename = 'c:/Temp/' + fn)\r\n",
    "    \r\n",
    "    if i % 2 == 0: #even\r\n",
    "        org.crop(left_odd, top, width=width, height=height)\r\n",
    "    elif i % 2 == 1: #odd\r\n",
    "        org.crop(left_even, top, width=width, height=height)\r\n",
    "        \r\n",
    "    # org.black_threshold(threshold='#930')\r\n",
    "    \r\n",
    "    org.save(filename = 'c:/Temp/c/ ' + fn)"
   ]
  },
  {
   "cell_type": "code",
   "execution_count": 12,
   "metadata": {},
   "outputs": [
    {
     "name": "stdout",
     "output_type": "stream",
     "text": [
      "001\n"
     ]
    }
   ],
   "source": [
    "print(str(1).zfill(3))"
   ]
  }
 ],
 "metadata": {
  "interpreter": {
   "hash": "5508d6da91ee726f4759b39b12114865ecbb9225bd4b8607f3ce0ff168272a17"
  },
  "kernelspec": {
   "display_name": "Python 3.8.8 64-bit (conda)",
   "name": "python3"
  },
  "language_info": {
   "name": "python",
   "version": ""
  }
 },
 "nbformat": 4,
 "nbformat_minor": 5
}