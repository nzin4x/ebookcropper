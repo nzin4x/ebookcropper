{
 "cells": [
  {
   "cell_type": "code",
   "execution_count": 2,
   "metadata": {},
   "outputs": [],
   "source": [
    "# install imagemagick with c+ library\r\n",
    "# set env with MAGICK_HOME \r\n",
    "# set image left and size in photo editor\r\n",
    "# single 로는 52초\r\n",
    "# thread 로는 11.2초\r\n",
    "\r\n",
    "\r\n",
    "from wand.image import Image\r\n",
    "import os\r\n",
    "import threading\r\n",
    "\r\n",
    "width = 766\r\n",
    "height = 1088\r\n",
    "top = 11\r\n",
    "left_odd = 26\r\n",
    "left_even = 111\r\n",
    "start = 1\r\n",
    "end = 392 + 1\r\n",
    "\r\n",
    "def crop(filename, output = \"c\"):\r\n",
    "    org = Image(filename = 'c:/Temp/' + filename)\r\n",
    "\r\n",
    "    if i % 2 == 0: #even\r\n",
    "        org.crop(left_odd, top, width=width, height=height)\r\n",
    "    elif i % 2 == 1: #odd\r\n",
    "        org.crop(left_even, top, width=width, height=height)\r\n",
    "        \r\n",
    "    # org.black_threshold(threshold='#930')\r\n",
    "    \r\n",
    "    org.save(filename = 'c:/Temp/' + output + '/ ' + filename)\r\n",
    "\r\n",
    "\r\n",
    "\r\n",
    "# thread 로 개선 할 것\r\n",
    "class Worker(threading.Thread):\r\n",
    "    def __init__(self, name):\r\n",
    "        super().__init__()\r\n",
    "        self.name = name\r\n",
    "\r\n",
    "    def run(self):\r\n",
    "        crop(threading.currentThread().getName())\r\n",
    "\r\n",
    "for i in range(start, end):\r\n",
    "# for i in range(40, 80): # sampling\r\n",
    "    fn = 'pp '+ str(i).zfill(3) +'.png' \r\n",
    "\r\n",
    "    # for thread\r\n",
    "    Worker(fn).start() \r\n",
    "\r\n",
    "    # for single\r\n",
    "    crop(fn, 'c')"
   ]
  },
  {
   "cell_type": "code",
   "execution_count": 2,
   "metadata": {},
   "outputs": [
    {
     "name": "stdout",
     "output_type": "stream",
     "text": [
      "001\n"
     ]
    }
   ],
   "source": []
  },
  {
   "cell_type": "code",
   "execution_count": null,
   "metadata": {},
   "outputs": [],
   "source": [
    "print(str(1).zfill(3))"
   ]
  }
 ],
 "metadata": {
  "interpreter": {
   "hash": "5508d6da91ee726f4759b39b12114865ecbb9225bd4b8607f3ce0ff168272a17"
  },
  "kernelspec": {
   "display_name": "Python 3.8.8 64-bit (conda)",
   "name": "python3"
  },
  "language_info": {
   "codemirror_mode": {
    "name": "ipython",
    "version": 3
   },
   "file_extension": ".py",
   "mimetype": "text/x-python",
   "name": "python",
   "nbconvert_exporter": "python",
   "pygments_lexer": "ipython3",
   "version": "3.8.8"
  }
 },
 "nbformat": 4,
 "nbformat_minor": 5
}