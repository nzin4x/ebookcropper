{
 "cells": [
  {
   "cell_type": "code",
   "execution_count": 5,
   "source": [
    "# install imagemagick with c+ library\r\n",
    "# set env with MAGICK_HOME \r\n",
    "# set image left and size in photo editor\r\n",
    "# single 로는 52초\r\n",
    "# thread 로는 11.2초\r\n",
    "\r\n",
    "\r\n",
    "from wand.image import Image\r\n",
    "import os\r\n",
    "import threading\r\n",
    "\r\n",
    "# 목표 width / height\r\n",
    "width = 993\r\n",
    "height = 1460\r\n",
    "# 위에 잘라낼 부분\r\n",
    "top = 0\r\n",
    "# 파일번호 짝수의 왼쪽 자를 부분\r\n",
    "left_odd = 104\r\n",
    "# 파일번호 홀수의 왼쪽 자를 부분\r\n",
    "left_even = 0\r\n",
    "\r\n",
    "# 시작 페이지 파일 번호 / 끝 페이지 파일 번호\r\n",
    "start = 0\r\n",
    "end = 396\r\n",
    "\r\n",
    "def crop(filename, output = \"c\"):\r\n",
    "    org = Image(filename = 'c:/Temp/' + filename)\r\n",
    "\r\n",
    "    if i % 2 == 0: #even\r\n",
    "        org.crop(left_even, top, width=width, height=height)\r\n",
    "    elif i % 2 == 1: #odd\r\n",
    "        org.crop(left_odd, top, width=width, height=height)\r\n",
    "        \r\n",
    "    # org.black_threshold(threshold='#930')\r\n",
    "    \r\n",
    "    org.save(filename = 'c:/Temp/' + output + '/ ' + filename)\r\n",
    "\r\n",
    "\r\n",
    "\r\n",
    "# thread 로 개선 할 것\r\n",
    "class Worker(threading.Thread):\r\n",
    "    def __init__(self, name):\r\n",
    "        super().__init__()\r\n",
    "        self.name = name\r\n",
    "\r\n",
    "    def run(self):\r\n",
    "        crop(threading.currentThread().getName())\r\n",
    "\r\n",
    "for i in range(start, end):\r\n",
    "# for i in range(40, 80): # sampling\r\n",
    "    fn = 'pp '+ str(i).zfill(3) +'.png' \r\n",
    "\r\n",
    "    # for thread\r\n",
    "    Worker(fn).start() \r\n",
    "\r\n",
    "    # for single\r\n",
    "    crop(fn, 'c')"
   ],
   "outputs": [],
   "metadata": {}
  },
  {
   "cell_type": "code",
   "execution_count": null,
   "source": [],
   "outputs": [
    {
     "output_type": "stream",
     "name": "stdout",
     "text": [
      "001\n"
     ]
    }
   ],
   "metadata": {}
  },
  {
   "cell_type": "code",
   "execution_count": null,
   "source": [
    "print(str(1).zfill(3))"
   ],
   "outputs": [],
   "metadata": {}
  }
 ],
 "metadata": {
  "interpreter": {
   "hash": "5508d6da91ee726f4759b39b12114865ecbb9225bd4b8607f3ce0ff168272a17"
  },
  "kernelspec": {
   "name": "python3",
   "display_name": "Python 3.8.8 64-bit ('base': conda)"
  },
  "language_info": {
   "codemirror_mode": {
    "name": "ipython",
    "version": 3
   },
   "file_extension": ".py",
   "mimetype": "text/x-python",
   "name": "python",
   "nbconvert_exporter": "python",
   "pygments_lexer": "ipython3",
   "version": "3.8.8"
  }
 },
 "nbformat": 4,
 "nbformat_minor": 5
}