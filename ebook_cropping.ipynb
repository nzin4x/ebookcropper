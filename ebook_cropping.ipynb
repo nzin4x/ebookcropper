{
 "cells": [
  {
   "cell_type": "code",
   "execution_count": 28,
   "id": "1fb03309",
   "metadata": {},
   "outputs": [],
   "source": [
    "# install imagemagick with c+ library\n",
    "# set env with MAGICK_HOME \n",
    "# set image left and size in photo editor\n",
    "\n",
    "\n",
    "\n",
    "from wand.image import Image\n",
    "import os\n",
    "\n",
    "width = 766\n",
    "height = 1088\n",
    "top = 11\n",
    "left_odd = 26\n",
    "left_even = 111\n",
    "start = 1\n",
    "end = 392 + 1\n",
    "\n",
    "\n",
    "# thread 로 개선 할 것\n",
    "\n",
    "# for i in range(start, end):\n",
    "for i in range(40, 80): # sampling\n",
    "    fn = 'pp '+ str(i).zfill(3) +'.png'\n",
    "    org = Image(filename = 'c:/Temp/' + fn)\n",
    "    \n",
    "    if i % 2 == 0: #even\n",
    "        org.crop(left_odd, top, width=width, height=height)\n",
    "    elif i % 2 == 1: #odd\n",
    "        org.crop(left_even, top, width=width, height=height)\n",
    "        \n",
    "    # org.black_threshold(threshold='#930')\n",
    "    \n",
    "    org.save(filename = 'c:/Temp/c/ ' + fn)"
   ]
  },
  {
   "cell_type": "code",
   "execution_count": 12,
   "id": "75e5d378",
   "metadata": {},
   "outputs": [
    {
     "name": "stdout",
     "output_type": "stream",
     "text": [
      "001\n"
     ]
    }
   ],
   "source": [
    "print(str(1).zfill(3))"
   ]
  }
 ],
 "metadata": {
  "kernelspec": {
   "display_name": "Python 3",
   "language": "python",
   "name": "python3"
  },
  "language_info": {
   "codemirror_mode": {
    "name": "ipython",
    "version": 3
   },
   "file_extension": ".py",
   "mimetype": "text/x-python",
   "name": "python",
   "nbconvert_exporter": "python",
   "pygments_lexer": "ipython3",
   "version": "3.8.8"
  }
 },
 "nbformat": 4,
 "nbformat_minor": 5
}
